{
  "cells": [
    {
      "cell_type": "markdown",
      "id": "4366e4b1",
      "metadata": {
        "deletable": true,
        "editable": true,
        "id": "4366e4b1"
      },
      "source": [
        "# Assignment 5: Neuroevolution\n",
        "\n",
        "**Goal**: Implement an Evolutionary Algorithm to optimize an Artificial Neural Network (ANN) based controller for the CartPole task in OpenAI Gym environment.\n",
        "\n",
        "CartPole evaluation environment functions are provided. Your goal is to implement your ANN to control the cartpole and use your Evolutionary Algorithm to optimize the ANN parameters (weights).\n",
        "\n",
        "Please answer the `Questions` and implement coding `Tasks` by filling **PLEASE FILL IN** sections. *Documentation* of your code is also important. You can find the grading scheme in implementation cells.\n",
        "\n",
        "  * Plagiarism is automatically checked and set to **0 points**\n",
        "\n",
        "  * It is allowed to learn from external resources but copying is not allowed. If you use any external resource, please cite them in the comments (e.g. `# source: https://...../` (see `fitness_function`))"
      ]
    },
    {
      "cell_type": "markdown",
      "id": "36de6798",
      "metadata": {
        "deletable": true,
        "editable": true,
        "id": "36de6798"
      },
      "source": [
        "**Install Prerequisites**"
      ]
    },
    {
      "cell_type": "code",
      "execution_count": null,
      "id": "e553c575",
      "metadata": {
        "deletable": true,
        "editable": true,
        "id": "e553c575",
        "colab": {
          "base_uri": "https://localhost:8080/"
        },
        "outputId": "7226e85c-d1ac-4687-defb-22b526bf4a49"
      },
      "outputs": [
        {
          "output_type": "stream",
          "name": "stdout",
          "text": [
            "Requirement already satisfied: numpy in /usr/local/lib/python3.10/dist-packages (1.25.2)\n",
            "Requirement already satisfied: matplotlib in /usr/local/lib/python3.10/dist-packages (3.7.1)\n",
            "Requirement already satisfied: scipy in /usr/local/lib/python3.10/dist-packages (1.11.4)\n",
            "Requirement already satisfied: contourpy>=1.0.1 in /usr/local/lib/python3.10/dist-packages (from matplotlib) (1.2.1)\n",
            "Requirement already satisfied: cycler>=0.10 in /usr/local/lib/python3.10/dist-packages (from matplotlib) (0.12.1)\n",
            "Requirement already satisfied: fonttools>=4.22.0 in /usr/local/lib/python3.10/dist-packages (from matplotlib) (4.51.0)\n",
            "Requirement already satisfied: kiwisolver>=1.0.1 in /usr/local/lib/python3.10/dist-packages (from matplotlib) (1.4.5)\n",
            "Requirement already satisfied: packaging>=20.0 in /usr/local/lib/python3.10/dist-packages (from matplotlib) (24.0)\n",
            "Requirement already satisfied: pillow>=6.2.0 in /usr/local/lib/python3.10/dist-packages (from matplotlib) (9.4.0)\n",
            "Requirement already satisfied: pyparsing>=2.3.1 in /usr/local/lib/python3.10/dist-packages (from matplotlib) (3.1.2)\n",
            "Requirement already satisfied: python-dateutil>=2.7 in /usr/local/lib/python3.10/dist-packages (from matplotlib) (2.8.2)\n",
            "Requirement already satisfied: six>=1.5 in /usr/local/lib/python3.10/dist-packages (from python-dateutil>=2.7->matplotlib) (1.16.0)\n"
          ]
        }
      ],
      "source": [
        "# Run this cell to install the required libraries\n",
        "%pip install numpy matplotlib scipy"
      ]
    },
    {
      "cell_type": "markdown",
      "id": "e2150ce2",
      "metadata": {
        "deletable": true,
        "editable": true,
        "id": "e2150ce2"
      },
      "source": [
        "**Imports**"
      ]
    },
    {
      "cell_type": "code",
      "execution_count": null,
      "id": "4c4c8007",
      "metadata": {
        "deletable": true,
        "editable": true,
        "id": "4c4c8007"
      },
      "outputs": [],
      "source": [
        "# Necessary libraries\n",
        "import matplotlib.pyplot as plt\n",
        "import numpy as np\n"
      ]
    },
    {
      "cell_type": "code",
      "execution_count": null,
      "id": "ade95dd9",
      "metadata": {
        "deletable": true,
        "editable": true,
        "id": "ade95dd9"
      },
      "outputs": [],
      "source": [
        "# Enables inline matplotib graphs\n",
        "%matplotlib inline\n",
        "\n",
        "# Comment the line above and uncomment the lines below to have interactive plots\n",
        "# WARN: may cause dependency issues\n",
        "# %matplotlib qt5\n",
        "# %pip install PyQt5\n",
        "# plt.ion()"
      ]
    },
    {
      "cell_type": "code",
      "execution_count": null,
      "id": "b90d39c6",
      "metadata": {
        "deletable": true,
        "editable": true,
        "lines_to_next_cell": 2,
        "id": "b90d39c6",
        "colab": {
          "base_uri": "https://localhost:8080/"
        },
        "outputId": "0295f114-bf0e-4bc4-cd0b-29750c7bf526"
      },
      "outputs": [
        {
          "output_type": "stream",
          "name": "stdout",
          "text": [
            "Collecting gymnasium\n",
            "  Downloading gymnasium-0.29.1-py3-none-any.whl (953 kB)\n",
            "\u001b[?25l     \u001b[90m━━━━━━━━━━━━━━━━━━━━━━━━━━━━━━━━━━━━━━━━\u001b[0m \u001b[32m0.0/953.9 kB\u001b[0m \u001b[31m?\u001b[0m eta \u001b[36m-:--:--\u001b[0m\r\u001b[2K     \u001b[91m━━━━━━━━━━━━━━━━\u001b[0m\u001b[90m╺\u001b[0m\u001b[90m━━━━━━━━━━━━━━━━━━━━━━━\u001b[0m \u001b[32m389.1/953.9 kB\u001b[0m \u001b[31m12.1 MB/s\u001b[0m eta \u001b[36m0:00:01\u001b[0m\r\u001b[2K     \u001b[90m━━━━━━━━━━━━━━━━━━━━━━━━━━━━━━━━━━━━━━━━\u001b[0m \u001b[32m953.9/953.9 kB\u001b[0m \u001b[31m16.9 MB/s\u001b[0m eta \u001b[36m0:00:00\u001b[0m\n",
            "\u001b[?25hRequirement already satisfied: numpy>=1.21.0 in /usr/local/lib/python3.10/dist-packages (from gymnasium) (1.25.2)\n",
            "Requirement already satisfied: cloudpickle>=1.2.0 in /usr/local/lib/python3.10/dist-packages (from gymnasium) (2.2.1)\n",
            "Requirement already satisfied: typing-extensions>=4.3.0 in /usr/local/lib/python3.10/dist-packages (from gymnasium) (4.11.0)\n",
            "Collecting farama-notifications>=0.0.1 (from gymnasium)\n",
            "  Downloading Farama_Notifications-0.0.4-py3-none-any.whl (2.5 kB)\n",
            "Installing collected packages: farama-notifications, gymnasium\n",
            "Successfully installed farama-notifications-0.0.4 gymnasium-0.29.1\n"
          ]
        }
      ],
      "source": [
        "%pip install gymnasium\n",
        "import gymnasium as gym"
      ]
    },
    {
      "cell_type": "markdown",
      "id": "9d95fca1",
      "metadata": {
        "deletable": true,
        "editable": true,
        "id": "9d95fca1"
      },
      "source": [
        "---\n",
        "**Question 1 (0-0.25-0.5 pt):** Following link provides more information about the CartPole environemnt we would like to find an ANN to control: https://www.gymlibrary.dev/environments/classic_control/cart_pole/\n",
        "\n",
        "Please have a look at the link and note the observation and action spaces, how many dimensions they have? Are they continous or discrete, and what kinds of value they can get?\n",
        "\n",
        "**Answer:** The observation space has 4 dimensions, the cart position, velocity, pole angle and pole angular velocity. The action space is discrete can be either 0 (moving to the left) or 1 (moving to the right). The observation space is continouous and the cart position takes values between -4.8 and 4.8 (episode terminates if cart leaves -2.4 and 2.4 range), velocity is between -inf and inf, pole angle between -.418 and .418 radians (episode terminates if pole angle exits -.2095 and .2095 range), and finally the pole angular velocity between -inf and inf."
      ]
    },
    {
      "cell_type": "markdown",
      "id": "eb5c264e",
      "metadata": {
        "deletable": true,
        "editable": true,
        "id": "eb5c264e"
      },
      "source": [
        "---\n",
        "**Question 2 (0-0.25-0.5 pt):** What is your proposed ANN architecture and why? Please also discuss the activation functions you choose.\n",
        "\n",
        "**Answer:** My proposed ANN architecture has 4 input neurons for the four observation space variables i.e. the cart position, velocity, pole angle and pole angular velocity.\n",
        "It then has a hidden layer with 16 neurons with a ReLU activation function. I chose the ReLU as it is computationally efficient, simple and has the capacity to introduce necessary non-linearity.\n",
        "FInally the output layer consists of 2 neurons which represent= the two variables in the action state: move left or move right. The activation fucntion will be a linear activation as it will allow for Q-learning"
      ]
    },
    {
      "cell_type": "markdown",
      "id": "0737934f",
      "metadata": {
        "deletable": true,
        "editable": true,
        "id": "0737934f"
      },
      "source": [
        "---\n",
        "**Task 1: Implementation of Evolutionary Algrotihm (0-1.6-3.8-4.2-5 pt):** Implement your evolutionary algorithm to find an ANN controller for the CartPole task."
      ]
    },
    {
      "cell_type": "markdown",
      "id": "61c71a2d",
      "metadata": {
        "deletable": true,
        "editable": true,
        "id": "61c71a2d"
      },
      "source": [
        "#### Check Your Implementation: Running The Evolutionary Algorithm\n",
        "\n",
        "Run the cell below, if you implemented everything correctly, you should see the algorithm running. Furthermore,"
      ]
    },
    {
      "cell_type": "code",
      "source": [
        "#################################\n",
        "# Grading\n",
        "# 0 pts if the code does not work, code works but it is fundamentally incorrect\n",
        "# 1.6 pts if the code works but some functions are incorrect and it is badly explained\n",
        "# 3.8 pts if the code works but some functions are incorrect but it is explained well\n",
        "# 4.2 pts if the code works very well aligned with the task without any mistakes, but it is badly explained\n",
        "# 5 pts if the code works very well aligned with the task without any mistakes, and it is well explained\n",
        "################################################################\n",
        "\n",
        "# Artificial Neural Network parameters (weights)\n",
        "# See here: https://www.gymlibrary.dev/environments/classic_control/cart_pole/ for input and output space\n",
        "inp = 4  # Number of input neurons\n",
        "hid = 16  # Number of hidden neurons\n",
        "out = 2  # Number of output neurons\n",
        "\n",
        "# Initialize the environment\n",
        "env = gym.make(\"CartPole-v1\")\n",
        "\n",
        "# Activation function for the ANN.\n",
        "def sigmoid(x):\n",
        "    return 1 / (1 + np.exp(-x))\n",
        "\n",
        "# Cartpole Evaluation Function\n",
        "def cartpole(params):\n",
        "  #changed the x to params so that the variable for sigmoid wouldn't be confusing for me :)\n",
        "    w1 = np.array(params[:inp * hid]).reshape((inp, hid))\n",
        "    b1 = np.array(params[inp * hid:inp * hid + hid]).reshape((1, hid))\n",
        "    w2 = np.array(params[inp * hid + hid:inp * hid + hid + hid * out]).reshape((hid, out))\n",
        "    b2 = np.array(params[inp * hid + hid + hid * out:]).reshape((1, out))\n",
        "\n",
        "    #This is the ANN funtion, which defines a basic feedforward neural network\n",
        "    #which takes as input an observation and returns a possible action as its output\n",
        "    def nn(obs):\n",
        "        obs = np.array(obs).reshape((1, inp))\n",
        "        h = sigmoid(np.dot(obs, w1) + b1)\n",
        "        out = np.dot(h, w2) + b2\n",
        "        return out\n",
        "\n",
        "    obs = env.reset()\n",
        "    total_reward = 0\n",
        "    done = False\n",
        "    max_steps = 1000\n",
        "\n",
        "    while not done:\n",
        "        action_vals = nn(obs)\n",
        "        action = np.argmax(action_vals)\n",
        "        obs, reward, done, _ = env.step(action)\n",
        "        total_reward += reward\n",
        "\n",
        "    env.close()\n",
        "    return min(max_steps, total_reward)\n",
        "\n",
        "# Cartpole evaluation with visualization\n",
        "def cartpole_visualize(params):\n",
        "    env_vis = gym.make(\"CartPole-v1\", render_mode=\"human\")\n",
        "\n",
        "    w1 = np.array(params[:inp * hid]).reshape((inp, hid))\n",
        "    b1 = np.array(params[inp * hid:inp * hid + hid]).reshape((1, hid))\n",
        "    w2 = np.array(params[inp * hid + hid:inp * hid + hid + hid * out]).reshape((hid, out))\n",
        "    b2 = np.array(params[inp * hid + hid + hid * out:]).reshape((1, out))\n",
        "\n",
        "    def nn(obs):\n",
        "        obs = np.array(obs).reshape((1, inp))\n",
        "        h = sigmoid(np.dot(obs, w1) + b1)\n",
        "        out = np.dot(h, w2) + b2\n",
        "        return out\n",
        "\n",
        "    obs = env_vis.reset()\n",
        "    total_reward = 0\n",
        "    done = False\n",
        "    max_steps = 1000\n",
        "\n",
        "    while not done:\n",
        "        action_vals = nn(obs)\n",
        "        action = np.argmax(action_vals)\n",
        "        obs, reward, done, _ = env_vis.step(action)\n",
        "        total_reward += reward\n",
        "        env_vis.render()\n",
        "\n",
        "    env_vis.close()\n",
        "    return min(max_steps, total_reward)\n",
        "\n",
        "# Evolutionary Algorithm to find the ANN weights\n",
        "def ea(pop_size, max_evals, p_cross, m_rate, obj_func):\n",
        "    #Initialization of Population and checking their fitness scores\n",
        "    ind_len = inp * hid + hid + hid * out + out\n",
        "    population = [np.random.uniform(-1, 1, ind_len) for _ in range(pop_size)]\n",
        "    fitness = [obj_func(ind) for ind in population]\n",
        "    evals = pop_size\n",
        "\n",
        "    #This function checks the current best solution and its fitness (score)\n",
        "    best_fit = max(fitness)\n",
        "    best_sol = population[np.argmax(fitness)]\n",
        "\n",
        "    while evals < max_evals:\n",
        "        fit_sum = sum(fitness)\n",
        "        sel_probs = [f / fit_sum for f in fitness]\n",
        "        #Parent Selection\n",
        "        parents = np.random.choice(len(population), size=(pop_size, 2), p=sel_probs)\n",
        "        new_pop = []\n",
        "\n",
        "        #Crossover and Mutation functions\n",
        "        for i1, i2 in parents:\n",
        "            if np.random.rand() < p_cross:\n",
        "                cross_pt = np.random.randint(1, ind_len - 1)\n",
        "                child = np.concatenate([population[i1][:cross_pt], population[i2][cross_pt:]])\n",
        "            else:\n",
        "                child = population[i1].copy()\n",
        "            mutate = np.random.rand(ind_len) < m_rate\n",
        "            child[mutate] += np.random.normal(0, 0.1, mutate.sum())\n",
        "            new_pop.append(child)\n",
        "\n",
        "        #Evaluate the fitness of the new population\n",
        "        new_fit = [obj_func(ind) for ind in new_pop]\n",
        "        evals += len(new_pop)\n",
        "\n",
        "        #Survivor Selection\n",
        "        combined_pop = population + new_pop\n",
        "        combined_fit = fitness + new_fit\n",
        "        best_indices = np.argsort(combined_fit)[-pop_size:]\n",
        "        population = [combined_pop[i] for i in best_indices]\n",
        "        fitness = [combined_fit[i] for i in best_indices]\n",
        "\n",
        "        #Update best solution/fitness\n",
        "        if max(fitness) > best_fit:\n",
        "            best_fit = max(fitness)\n",
        "            best_sol = population[np.argmax(fitness)]\n",
        "\n",
        "    return best_sol, best_fit\n"
      ],
      "metadata": {
        "colab": {
          "base_uri": "https://localhost:8080/"
        },
        "id": "OM6wkPjiM2fq",
        "outputId": "07dda555-6dd7-4c1c-ef1a-051072882a89"
      },
      "id": "OM6wkPjiM2fq",
      "execution_count": null,
      "outputs": [
        {
          "output_type": "stream",
          "name": "stderr",
          "text": [
            "/usr/local/lib/python3.10/dist-packages/gym/core.py:317: DeprecationWarning: \u001b[33mWARN: Initializing wrapper in old step API which returns one bool instead of two. It is recommended to set `new_step_api=True` to use new step API. This will be the default behaviour in future.\u001b[0m\n",
            "  deprecation(\n",
            "/usr/local/lib/python3.10/dist-packages/gym/wrappers/step_api_compatibility.py:39: DeprecationWarning: \u001b[33mWARN: Initializing environment in old step API which returns one bool instead of two. It is recommended to set `new_step_api=True` to use new step API. This will be the default behaviour in future.\u001b[0m\n",
            "  deprecation(\n"
          ]
        }
      ]
    },
    {
      "cell_type": "code",
      "execution_count": null,
      "id": "1266f3a3",
      "metadata": {
        "deletable": true,
        "editable": true,
        "lines_to_next_cell": 2,
        "id": "1266f3a3",
        "colab": {
          "base_uri": "https://localhost:8080/"
        },
        "outputId": "f468b152-4340-425b-bf7e-e360e67ce090"
      },
      "outputs": [
        {
          "output_type": "stream",
          "name": "stderr",
          "text": [
            "/usr/local/lib/python3.10/dist-packages/gym/utils/passive_env_checker.py:241: DeprecationWarning: `np.bool8` is a deprecated alias for `np.bool_`.  (Deprecated NumPy 1.24)\n",
            "  if not isinstance(terminated, (bool, np.bool8)):\n"
          ]
        },
        {
          "output_type": "stream",
          "name": "stdout",
          "text": [
            "Best ANN parameters found: [ 0.03640475  0.06621107  0.06526443 -0.86522216  0.7551275   0.40423188\n",
            " -0.06509645  0.91317459  0.66365472 -0.41518317  0.06345023 -0.23034974\n",
            " -0.39198584 -0.69602848  0.68436993 -0.54505106 -0.7672023  -0.92051269\n",
            "  0.11678972 -0.59408608  0.67874307 -0.56117832 -0.97087112  0.13882903\n",
            " -0.61319538  0.87437822 -0.19970782 -0.02936537  0.04851706 -0.66824612\n",
            " -0.76726976  0.1356096   0.25553613  0.50928921  0.12798238  0.89531106\n",
            " -0.86626873  0.46236967 -0.066988    0.13354225  0.86772604 -1.08085081\n",
            "  0.8111646   0.00643481  0.54506661 -0.19972799  1.156352   -0.23377901\n",
            " -0.32678123  0.81849989  0.74655845  0.72370674  1.03841003  0.08644208\n",
            "  0.8498846   0.40228417  0.64739856  0.87876189 -0.76757277  0.98259103\n",
            " -0.95107453 -0.71120198 -1.06008985 -0.26137261  1.2047841  -0.29216442\n",
            "  0.42721873 -0.45112991  0.21749553  0.0299465   0.4485139  -0.01949465\n",
            "  0.3590702   0.80552087 -0.48079579  0.8668775   0.4149735  -0.35636232\n",
            "  0.69210979  0.82809469 -0.08725868 -0.14156217 -0.42629396 -0.30281244\n",
            " -0.24487807  0.31974704 -0.00364079  0.69350635 -0.22508361 -0.57158608\n",
            " -0.26568856 -0.04934535 -0.39535572  0.7241048  -0.35172924  0.14288018\n",
            " -0.07549697 -0.93305634  0.39077261  0.01503733 -0.67371574 -0.78936121\n",
            " -0.99264994 -0.52857069 -0.51175707 -0.69280248 -0.56624098 -0.10643401\n",
            " -0.76903864 -0.95943934  0.32162426 -0.2252519   0.74774548  0.2175328 ]\n",
            "Best fitness found: 500.0\n",
            "The best fitness 1000 was not found, try again!!\n"
          ]
        }
      ],
      "source": [
        "# Dummy parameters, please add or remove based on your implementation\n",
        "kwargs = {\n",
        "    \"pop_size\": 20,\n",
        "    \"max_evals\": 5000,  # maximum number of fitness evaluations\n",
        "    \"p_cross\": 0.8,  # crossover probability\n",
        "    \"m_rate\": 0.2,  # mutation rate\n",
        "    \"obj_func\": cartpole,\n",
        "}\n",
        "# Run your algorithm once and find the best ANN weigths found\n",
        "env = gym.make(\"CartPole-v1\")\n",
        "x_best, f_best = ea(**kwargs)\n",
        "\n",
        "\n",
        "# Print the best ANN weigths found and best fitness\n",
        "print(\"Best ANN parameters found:\",x_best)\n",
        "print(\"Best fitness found:\",f_best)\n",
        "\n",
        "\n",
        "# Evaluate your ANN weights again and record the video\n",
        "if f_best >= 1000:\n",
        "  cartpole_visualize(x_best)\n",
        "else:\n",
        "  print(\"The best fitness 1000 was not found, try again!!\")\n"
      ]
    },
    {
      "cell_type": "markdown",
      "source": [
        "---\n",
        "**Question 3 (0-0.25-0.5 pt):** Please comment on the behavior of the final solution. Were you able to find the best solution (i.e. ANN weights which achieves best fitness: 1000) and was it possible to controll the CartPole task without letting the the pole fall?\n",
        "\n",
        "**Answer:** I was unable to find thes best solution i.e. 1000 but I was able to reach the threshold of 500. I am still unsure as to why that was the case. I made multiple changes to a variety of parameters from increasing the max evaluations, to the number of hidden neurons but whatever I did seemed to make no difference. I also tried to include a clause in the evolutionary algorithm after the 'while fit_evals < max_fit_evals' to add a best_fitness < 1000 in order to try and force the evolutionary algorithm to keep going until a fitness of 1000 was reached but it seemed to have no effect"
      ],
      "metadata": {
        "id": "XhHV4wTRo53p"
      },
      "id": "XhHV4wTRo53p"
    },
    {
      "cell_type": "markdown",
      "id": "73ddbb30",
      "metadata": {
        "deletable": true,
        "editable": true,
        "lines_to_next_cell": 2,
        "id": "73ddbb30"
      },
      "source": [
        "**Average results of your algorithm**\n",
        "\n",
        "Remember that the EAs are sthocastic algorithms that can produce different results as a result of independent runs.\n",
        "\n",
        "Therefore, we would like to see the average results and standard deviations.\n"
      ]
    },
    {
      "cell_type": "markdown",
      "source": [
        "---\n",
        "**Task 2 (0-1.5-3 pt):** Please run your algorithm for at least 10 times and plot the average results and standard deviations. Below, you may add as many cells as you need for this implementation and plot functions. You may use previous code you have developed/used during the course."
      ],
      "metadata": {
        "id": "ogLrFqM4p1FP"
      },
      "id": "ogLrFqM4p1FP"
    },
    {
      "cell_type": "code",
      "source": [
        "import matplotlib.pyplot as plt\n",
        "\n",
        "#function to run the above code 'num_runs' number of times. It records the best fitnesses and solutions for each run\n",
        "def run_multiple_runs(num_runs, pop_size, max_evals, p_cross, m_rate, obj_func):\n",
        "    best_fitnesses = []\n",
        "    best_solutions = []\n",
        "\n",
        "    for _ in range(num_runs):\n",
        "        x_best, f_best = ea(pop_size, max_evals, p_cross, m_rate, obj_func)\n",
        "        best_fitnesses.append(f_best)\n",
        "        best_solutions.append(x_best)\n",
        "\n",
        "    return best_fitnesses, best_solutions\n",
        "\n",
        "#Calculate average of all the runs\n",
        "def average_fit(best_fitnesses):\n",
        "    return sum(best_fitnesses) / len(best_fitnesses)\n",
        "\n",
        "#Calculate standard deviation of all the runs\n",
        "def std_dev(best_fitnesses):\n",
        "    return np.std(best_fitnesses)\n",
        "\n",
        "#Code Execution, prints the average fitness and the standard deviation of fitness\n",
        "#reduced number of max_evals as it made the runs too long when it is 5000\n",
        "num_runs = 10\n",
        "pop_size = 20\n",
        "max_evals = 1000\n",
        "p_cross = 0.8\n",
        "m_rate = 0.2\n",
        "\n",
        "best_fitnesses, _ = run_multiple_runs(num_runs, pop_size, max_evals, p_cross, m_rate, cartpole)\n",
        "average_fitness = average_fit(best_fitnesses)\n",
        "std_dev_fitness = std_dev(best_fitnesses)\n",
        "\n",
        "print(\"Average Fitness:\", average_fitness)\n",
        "print(\"Standard Deviation of Fitness:\", std_dev_fitness)\n",
        "\n",
        "# Plot results of average and has standard deviation as error bars, but since it is zero you can't see them :(\n",
        "plt.errorbar(range(num_runs), best_fitnesses, yerr=std_dev_fitness, fmt='o', color='blue', ecolor='lightgray', elinewidth=3, capsize=0)\n",
        "plt.xlabel('Run')\n",
        "plt.ylabel('Fitness')\n",
        "plt.title('Cartpole Evolutionary Algorithm Performance')\n",
        "plt.show()\n"
      ],
      "metadata": {
        "colab": {
          "base_uri": "https://localhost:8080/",
          "height": 509
        },
        "id": "iu-rUriDlVe1",
        "outputId": "4975123b-2d31-4565-afea-015553d4c54f"
      },
      "id": "iu-rUriDlVe1",
      "execution_count": null,
      "outputs": [
        {
          "output_type": "stream",
          "name": "stdout",
          "text": [
            "Average Fitness: 500.0\n",
            "Standard Deviation of Fitness: 0.0\n"
          ]
        },
        {
          "output_type": "display_data",
          "data": {
            "text/plain": [
              "<Figure size 640x480 with 1 Axes>"
            ],
            "image/png": "[encoded data removed]"
          },
          "metadata": {}
        }
      ]
    },
    {
      "cell_type": "markdown",
      "source": [
        "---\n",
        "**Question 4 (0-0.25-0.5 pt):** Please comment on the average behavior of your algorithm. How did the average results and standard deviations look? Did your algorithm converge all the time to the best fitness?\n",
        "\n",
        "**Answer:** The performance of the algorithm remained static as shown by the standard deviation being 0.0 and the average being 500, which is good in the sense that it is the minimum threshold for the cartpole function, but it shows that the evolutionary aglortihm doesn't allow for enough exploration in terms of parent/survivor selection, which could possibly lead to solutions that may have given the best fitness of 1000"
      ],
      "metadata": {
        "id": "hAyp-arbqChy"
      },
      "id": "hAyp-arbqChy"
    }
  ],
  "metadata": {
    "jupytext": {
      "formats": "ipynb,md,py:light"
    },
    "kernelspec": {
      "display_name": "Python 3 (ipykernel)",
      "language": "python",
      "name": "python3"
    },
    "language_info": {
      "codemirror_mode": {
        "name": "ipython",
        "version": 3
      },
      "file_extension": ".py",
      "mimetype": "text/x-python",
      "name": "python",
      "nbconvert_exporter": "python",
      "pygments_lexer": "ipython3",
      "version": "3.9.7"
    },
    "toc": {
      "base_numbering": 1
    },
    "colab": {
      "provenance": []
    }
  },
  "nbformat": 4,
  "nbformat_minor": 5
}