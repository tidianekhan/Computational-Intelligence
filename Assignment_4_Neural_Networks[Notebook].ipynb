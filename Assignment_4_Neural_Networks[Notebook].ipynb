{
  "cells": [
    {
      "cell_type": "markdown",
      "metadata": {
        "id": "QRBDdr0SEqpT"
      },
      "source": [
        "# Assignment 4"
      ]
    },
    {
      "cell_type": "markdown",
      "metadata": {
        "id": "8xd57TRzExEr"
      },
      "source": [
        "**Assignment 4: Neural Networks**\n",
        "\n",
        "**Goal**: ​Get familiar with neural networks by implementing them and applying them to image classification."
      ]
    },
    {
      "cell_type": "markdown",
      "metadata": {
        "id": "yHNgWB1iFDu5"
      },
      "source": [
        "In this assignment we are going to learn about neural networks (NNs). The goal is to implement two neural networks: a fully-connected neural network, a convolutional neural network, and analyze their behavior.\n",
        "\n",
        "The considered task is image classification. We consider a dataset of small natural images (see the additional file) with multiple classes. We aim at formulating a model (a neural network) and learning it using the negative log-likelihood function (i.e., the cross-entropy loss) as the objective function, and the stochastic gradient descent as the optimizer.\n",
        "\n",
        "In this assignment, ​**the code must be implemented in PyTorch**."
      ]
    },
    {
      "cell_type": "markdown",
      "metadata": {
        "id": "Jxgc7c--P0GH"
      },
      "source": [
        "## 1 Understanding the problem\n",
        "\n"
      ]
    },
    {
      "cell_type": "markdown",
      "metadata": {
        "id": "oRteDLEPP3eX"
      },
      "source": [
        "The considered problem is about classifying images to $L$ classes. In the first part of the assignment, you are asked get familiar with PyTorch, a deep learning library, and the basics of neural networks, and implement neural-network-based classifiers. For this purpose, we will start with classifying small images (8px x 8px) of handwritten digits to one of 10 classes. The dataset is very small and all experiments could be achieved within a couple of minutes.\n",
        "\n",
        "In the second part, you are asked to implement the whole pipeline for a given dataset by yourself.\n",
        "\n",
        "Please run the code below and spend a while on analyzing the images.\n",
        "\n",
        "If any code line is unclear to you, please read on that in numpy, scipy, matplotlib and PyTorch docs."
      ]
    },
    {
      "cell_type": "code",
      "execution_count": null,
      "metadata": {
        "colab": {
          "base_uri": "https://localhost:8080/"
        },
        "id": "64uI4XFuDEfH",
        "outputId": "fa04c64e-58e1-4b2b-a12d-664cffbe3581"
      },
      "outputs": [
        {
          "output_type": "stream",
          "name": "stdout",
          "text": [
            "Requirement already satisfied: torch in /usr/local/lib/python3.10/dist-packages (2.2.1+cu121)\n",
            "Requirement already satisfied: torchvision in /usr/local/lib/python3.10/dist-packages (0.17.1+cu121)\n",
            "Requirement already satisfied: torchaudio in /usr/local/lib/python3.10/dist-packages (2.2.1+cu121)\n",
            "Requirement already satisfied: filelock in /usr/local/lib/python3.10/dist-packages (from torch) (3.14.0)\n",
            "Requirement already satisfied: typing-extensions>=4.8.0 in /usr/local/lib/python3.10/dist-packages (from torch) (4.11.0)\n",
            "Requirement already satisfied: sympy in /usr/local/lib/python3.10/dist-packages (from torch) (1.12)\n",
            "Requirement already satisfied: networkx in /usr/local/lib/python3.10/dist-packages (from torch) (3.3)\n",
            "Requirement already satisfied: jinja2 in /usr/local/lib/python3.10/dist-packages (from torch) (3.1.4)\n",
            "Requirement already satisfied: fsspec in /usr/local/lib/python3.10/dist-packages (from torch) (2023.6.0)\n",
            "Collecting nvidia-cuda-nvrtc-cu12==12.1.105 (from torch)\n",
            "  Using cached nvidia_cuda_nvrtc_cu12-12.1.105-py3-none-manylinux1_x86_64.whl (23.7 MB)\n",
            "Collecting nvidia-cuda-runtime-cu12==12.1.105 (from torch)\n",
            "  Using cached nvidia_cuda_runtime_cu12-12.1.105-py3-none-manylinux1_x86_64.whl (823 kB)\n",
            "Collecting nvidia-cuda-cupti-cu12==12.1.105 (from torch)\n",
            "  Using cached nvidia_cuda_cupti_cu12-12.1.105-py3-none-manylinux1_x86_64.whl (14.1 MB)\n",
            "Collecting nvidia-cudnn-cu12==8.9.2.26 (from torch)\n",
            "  Using cached nvidia_cudnn_cu12-8.9.2.26-py3-none-manylinux1_x86_64.whl (731.7 MB)\n",
            "Collecting nvidia-cublas-cu12==12.1.3.1 (from torch)\n",
            "  Using cached nvidia_cublas_cu12-12.1.3.1-py3-none-manylinux1_x86_64.whl (410.6 MB)\n",
            "Collecting nvidia-cufft-cu12==11.0.2.54 (from torch)\n",
            "  Using cached nvidia_cufft_cu12-11.0.2.54-py3-none-manylinux1_x86_64.whl (121.6 MB)\n",
            "Collecting nvidia-curand-cu12==10.3.2.106 (from torch)\n",
            "  Using cached nvidia_curand_cu12-10.3.2.106-py3-none-manylinux1_x86_64.whl (56.5 MB)\n",
            "Collecting nvidia-cusolver-cu12==11.4.5.107 (from torch)\n",
            "  Using cached nvidia_cusolver_cu12-11.4.5.107-py3-none-manylinux1_x86_64.whl (124.2 MB)\n",
            "Collecting nvidia-cusparse-cu12==12.1.0.106 (from torch)\n",
            "  Using cached nvidia_cusparse_cu12-12.1.0.106-py3-none-manylinux1_x86_64.whl (196.0 MB)\n",
            "Collecting nvidia-nccl-cu12==2.19.3 (from torch)\n",
            "  Using cached nvidia_nccl_cu12-2.19.3-py3-none-manylinux1_x86_64.whl (166.0 MB)\n",
            "Collecting nvidia-nvtx-cu12==12.1.105 (from torch)\n",
            "  Using cached nvidia_nvtx_cu12-12.1.105-py3-none-manylinux1_x86_64.whl (99 kB)\n",
            "Requirement already satisfied: triton==2.2.0 in /usr/local/lib/python3.10/dist-packages (from torch) (2.2.0)\n",
            "Collecting nvidia-nvjitlink-cu12 (from nvidia-cusolver-cu12==11.4.5.107->torch)\n",
            "  Using cached nvidia_nvjitlink_cu12-12.4.127-py3-none-manylinux2014_x86_64.whl (21.1 MB)\n",
            "Requirement already satisfied: numpy in /usr/local/lib/python3.10/dist-packages (from torchvision) (1.25.2)\n",
            "Requirement already satisfied: pillow!=8.3.*,>=5.3.0 in /usr/local/lib/python3.10/dist-packages (from torchvision) (9.4.0)\n",
            "Requirement already satisfied: MarkupSafe>=2.0 in /usr/local/lib/python3.10/dist-packages (from jinja2->torch) (2.1.5)\n",
            "Requirement already satisfied: mpmath>=0.19 in /usr/local/lib/python3.10/dist-packages (from sympy->torch) (1.3.0)\n",
            "Installing collected packages: nvidia-nvtx-cu12, nvidia-nvjitlink-cu12, nvidia-nccl-cu12, nvidia-curand-cu12, nvidia-cufft-cu12, nvidia-cuda-runtime-cu12, nvidia-cuda-nvrtc-cu12, nvidia-cuda-cupti-cu12, nvidia-cublas-cu12, nvidia-cusparse-cu12, nvidia-cudnn-cu12, nvidia-cusolver-cu12\n",
            "Successfully installed nvidia-cublas-cu12-12.1.3.1 nvidia-cuda-cupti-cu12-12.1.105 nvidia-cuda-nvrtc-cu12-12.1.105 nvidia-cuda-runtime-cu12-12.1.105 nvidia-cudnn-cu12-8.9.2.26 nvidia-cufft-cu12-11.0.2.54 nvidia-curand-cu12-10.3.2.106 nvidia-cusolver-cu12-11.4.5.107 nvidia-cusparse-cu12-12.1.0.106 nvidia-nccl-cu12-2.19.3 nvidia-nvjitlink-cu12-12.4.127 nvidia-nvtx-cu12-12.1.105\n"
          ]
        }
      ],
      "source": [
        "%pip install torch torchvision torchaudio"
      ]
    },
    {
      "cell_type": "code",
      "execution_count": null,
      "metadata": {
        "id": "g4wCnPRz-MaE"
      },
      "outputs": [],
      "source": [
        "import os\n",
        "\n",
        "import matplotlib.pyplot as plt\n",
        "import numpy as np\n",
        "import torch\n",
        "import torch.nn as nn\n",
        "import torch.nn.functional as F\n",
        "from sklearn import datasets\n",
        "from sklearn.datasets import load_digits\n",
        "from torch.utils.data import DataLoader, Dataset\n",
        "\n",
        "EPS = 1.0e-7"
      ]
    },
    {
      "cell_type": "code",
      "execution_count": null,
      "metadata": {
        "id": "mRmwbuamRuge",
        "colab": {
          "base_uri": "https://localhost:8080/"
        },
        "outputId": "c1d5d095-7a8f-4504-d3a8-c2438b4cefbc"
      },
      "outputs": [
        {
          "output_type": "stream",
          "name": "stdout",
          "text": [
            "Mounted at /content/gdrive\n"
          ]
        }
      ],
      "source": [
        "# IF YOU USE COLAB, THIS IS VERY USEFUL! OTHERWISE, PLEASE REMOVE IT.\n",
        "#mount drive: WE NEED IT FOR SAVING IMAGES!\n",
        "from google.colab import drive\n",
        "\n",
        "drive.mount(\"/content/gdrive\")"
      ]
    },
    {
      "cell_type": "code",
      "execution_count": null,
      "metadata": {
        "id": "KEiEJE5sRvjc"
      },
      "outputs": [],
      "source": [
        "# IF YOU USE COLAB, THIS IS VERY USEFUL! OTHERWISE, PLEASE REMOVE IT.\n",
        "# PLEASE CHANGE IT TO YOUR OWN GOOGLE DRIVE!\n",
        "results_dir = \"/content/gdrive/My_Drive/Colab Notebooks/assignment_4/\""
      ]
    },
    {
      "cell_type": "code",
      "execution_count": null,
      "metadata": {
        "id": "Xm4e0Utl-30c"
      },
      "outputs": [],
      "source": [
        "# PLEASE DO NOT REMOVE!\n",
        "# This is a class for the dataset of small (8px x 8px) digits.\n",
        "# Please try to understand in details how it works!\n",
        "class Digits(Dataset):\n",
        "    \"\"\"Scikit-Learn Digits dataset.\"\"\"\n",
        "\n",
        "    def __init__(self, mode=\"train\", transforms=None):\n",
        "        digits = load_digits()\n",
        "        if mode == \"train\":\n",
        "            self.data = digits.data[:1000].astype(np.float32)\n",
        "            self.targets = digits.target[:1000]\n",
        "        elif mode == \"val\":\n",
        "            self.data = digits.data[1000:1350].astype(np.float32)\n",
        "            self.targets = digits.target[1000:1350]\n",
        "        else:\n",
        "            self.data = digits.data[1350:].astype(np.float32)\n",
        "            self.targets = digits.target[1350:]\n",
        "\n",
        "        self.transforms = transforms\n",
        "\n",
        "    def __len__(self):\n",
        "        return len(self.data)\n",
        "\n",
        "    def __getitem__(self, idx):\n",
        "        sample_x = self.data[idx]\n",
        "        sample_y = self.targets[idx]\n",
        "        if self.transforms:\n",
        "            sample_x = self.transforms(sample_x)\n",
        "        return (sample_x, sample_y)"
      ]
    },
    {
      "cell_type": "code",
      "execution_count": null,
      "metadata": {
        "id": "bnDz_yGeuOnh",
        "colab": {
          "base_uri": "https://localhost:8080/",
          "height": 370
        },
        "outputId": "9296c59b-8ae4-4abb-d002-716467a56fed"
      },
      "outputs": [
        {
          "output_type": "display_data",
          "data": {
            "text/plain": [
              "<Figure size 400x400 with 16 Axes>"
            ],
            "image/png": "[encoded data removed]"
          },
          "metadata": {}
        }
      ],
      "source": [
        "# PLEASE DO NOT REMOVE\n",
        "# Here, we plot some images (8px x 8px).\n",
        "digits = load_digits()\n",
        "x = digits.data[:16].astype(np.float32)\n",
        "\n",
        "fig_data, axs = plt.subplots(4, 4, figsize=(4, 4))\n",
        "fig_data.tight_layout()\n",
        "\n",
        "for i in range(4):\n",
        "    for j in range(4):\n",
        "        img = np.reshape(x[4 * i + j], (8, 8))\n",
        "        axs[i, j].imshow(img, cmap=\"gray\")\n",
        "        axs[i, j].axis(\"off\")"
      ]
    },
    {
      "cell_type": "markdown",
      "metadata": {
        "id": "wgc_GFOyRBEi"
      },
      "source": [
        "## 2 Neural Networks for Digits (4pt)"
      ]
    },
    {
      "cell_type": "markdown",
      "metadata": {
        "id": "gDVf1vyORGUB"
      },
      "source": [
        "In this assignment, you are asked to implement a neural network (NN) classifier. Please take a look at the class below and fill in the missing parts.\n",
        "\n",
        "NOTE: Please pay attention to the inputs and outputs of each function."
      ]
    },
    {
      "cell_type": "markdown",
      "metadata": {
        "id": "iwuEfxSKpFtD"
      },
      "source": [
        "### 2.1 Neural Network Classifier"
      ]
    },
    {
      "cell_type": "markdown",
      "metadata": {
        "id": "9FThxxdkpKcQ"
      },
      "source": [
        "Below, we have two helper modules (layers) that can be used to reshape and flatten a tensor. They are useful for creating sequentials with convolutional layers."
      ]
    },
    {
      "cell_type": "code",
      "execution_count": null,
      "metadata": {
        "id": "5AB5Ch63Ak01"
      },
      "outputs": [],
      "source": [
        "# PLEASE DO NOT REMOVE!\n",
        "# Here are two auxiliary functions that can be used for a convolutional NN (CNN).\n",
        "\n",
        "\n",
        "# This module reshapes an input (matrix -> tensor).\n",
        "class Reshape(nn.Module):\n",
        "    def __init__(self, size):\n",
        "        super(Reshape, self).__init__()\n",
        "        self.size = size  # a list\n",
        "\n",
        "    def forward(self, x):\n",
        "        assert x.shape[1] == np.prod(self.size)\n",
        "        return x.view(x.shape[0], *self.size)\n",
        "\n",
        "\n",
        "# This module flattens an input (tensor -> matrix) by blending dimensions\n",
        "# beyond the batch size.\n",
        "class Flatten(nn.Module):\n",
        "    def __init__(self):\n",
        "        super(Flatten, self).__init__()\n",
        "\n",
        "    def forward(self, x):\n",
        "        return x.view(x.shape[0], -1)"
      ]
    },
    {
      "cell_type": "markdown",
      "metadata": {
        "id": "x3i9R3NmpUY3"
      },
      "source": [
        "Below is the main class for a classifier parameterized by a neural network."
      ]
    },
    {
      "cell_type": "code",
      "execution_count": null,
      "metadata": {
        "id": "Vtv_pAkmOrS3"
      },
      "outputs": [],
      "source": [
        "# =========\n",
        "# GRADING:\n",
        "# 0\n",
        "# 0.5 pt if code works but it is explained badly\n",
        "# 1.0 pt if code works and it is explained well\n",
        "# =========\n",
        "# Implement a neural network (NN) classifier.\n",
        "class ClassifierNeuralNet(nn.Module):\n",
        "    def __init__(self, classnet):\n",
        "        super(ClassifierNeuralNet, self).__init__()\n",
        "        # We provide a sequential module with layers and activations\n",
        "        self.classnet = classnet\n",
        "        # The loss function (the negative log-likelihood)\n",
        "        self.nll = nn.NLLLoss(reduction=\"none\")  # it requires log-softmax as input!!\n",
        "\n",
        "    # This function classifies an image x to a class.\n",
        "    # The output must be a class label (long).\n",
        "    def classify(self, x):\n",
        "        # output is taken from classnet\n",
        "        output = self.classnet(x)\n",
        "        # index of maximum value and assign it to predicted one\n",
        "        _, y_pred = torch.max(output, dim=1)\n",
        "        #return predicted label\n",
        "        return y_pred\n",
        "\n",
        "    # This function is crucial for a module in PyTorch.\n",
        "    # In our framework, this class outputs a value of the loss function.\n",
        "    def forward(self, x, y, reduction=\"avg\"):\n",
        "        #get output from neural network\n",
        "        out = self.classnet(x)\n",
        "        # compute loss from self.nll between output and y\n",
        "        loss = self.nll(out, y)\n",
        "        if reduction == \"sum\":\n",
        "            return loss.sum()\n",
        "        else:\n",
        "            return loss.mean()"
      ]
    },
    {
      "cell_type": "markdown",
      "metadata": {
        "id": "bwaou1x-gmx3"
      },
      "source": [
        "**Question 1 (0-0.5pt):** What is the objective function for a classification task? In other words, what is nn.NLLLoss in the code above? Pelase write it in mathematical terms.\n",
        "\n",
        "**Answer:** The objective function is the negative log likelihood loss. It works by trying to maximise the probability of a sample generated from the target class. It is represented in the code above as nn.NLLLoss. nn.NLLLoss is computed for the loss between prediction and the target class. It is the negative sum of the logarithmic probabilities of the labels.\n",
        "The formula is as follows:\n",
        "NLL = - 1/N ∑ (i =1 to i=N ) y_i(log softmax),  where N is the size of the labels, where y is input tensor, and where log softmax is done to input tensor y,"
      ]
    },
    {
      "cell_type": "markdown",
      "metadata": {
        "id": "kvX88kN-irAD"
      },
      "source": [
        "**Question 2 (0-0.5pt):** In the code above, it is said to use the logarithm of the softmax as the final activation function. Is it correct to use the log-softmax instead of the softmax for making predictions (i.e., picking the most probable label).\n",
        "\n",
        "**Answer:** Using log softmax instead of just using softmax allows you to avoid issues with over/underflow"
      ]
    },
    {
      "cell_type": "markdown",
      "metadata": {
        "id": "HVqRQduw3mgm"
      },
      "source": [
        "### 2.2 Evaluation"
      ]
    },
    {
      "cell_type": "code",
      "execution_count": null,
      "metadata": {
        "id": "4g9uUFgYP1kT"
      },
      "outputs": [],
      "source": [
        "# PLEASE DO NOT REMOVE\n",
        "def evaluation(test_loader, name=None, model_best=None, epoch=None):\n",
        "    # If available, load the best performing model\n",
        "    if model_best is None:\n",
        "        model_best = torch.load(name + \".model\")\n",
        "\n",
        "    model_best.eval()  # set the model to the evaluation mode\n",
        "    loss_test = 0.0\n",
        "    loss_error = 0.0\n",
        "    N = 0.0\n",
        "    # start evaluation\n",
        "    for indx_batch, (test_batch, test_targets) in enumerate(test_loader):\n",
        "        # loss (nll)\n",
        "        loss_test_batch = model_best.forward(test_batch, test_targets, reduction=\"sum\")\n",
        "        loss_test = loss_test + loss_test_batch.item()\n",
        "        # classification error\n",
        "        y_pred = model_best.classify(test_batch)\n",
        "        e = 1.0 * (y_pred == test_targets)\n",
        "        loss_error = loss_error + (1.0 - e).sum().item()\n",
        "        # the number of examples\n",
        "        N = N + test_batch.shape[0]\n",
        "    # divide by the number of examples\n",
        "    loss_test = loss_test / N\n",
        "    loss_error = loss_error / N\n",
        "\n",
        "    # Print the performance\n",
        "    if epoch is None:\n",
        "        print(f\"-> FINAL PERFORMANCE: nll={loss_test}, ce={loss_error}\")\n",
        "    else:\n",
        "        if epoch % 10 == 0:\n",
        "            print(f\"Epoch: {epoch}, val nll={loss_test}, val ce={loss_error}\")\n",
        "\n",
        "    return loss_test, loss_error\n",
        "\n",
        "\n",
        "# An auxiliary function for plotting the performance curves\n",
        "def plot_curve(\n",
        "    name,\n",
        "    signal,\n",
        "    file_name=\"curve.pdf\",\n",
        "    xlabel=\"epochs\",\n",
        "    ylabel=\"nll\",\n",
        "    color=\"b-\",\n",
        "    test_eval=None,\n",
        "):\n",
        "    # plot the curve\n",
        "    plt.plot(\n",
        "        np.arange(len(signal)), signal, color, linewidth=\"3\", label=ylabel + \" val\"\n",
        "    )\n",
        "    # if available, add the final (test) performance\n",
        "    if test_eval is not None:\n",
        "        plt.hlines(\n",
        "            test_eval,\n",
        "            xmin=0,\n",
        "            xmax=len(signal),\n",
        "            linestyles=\"dashed\",\n",
        "            label=ylabel + \" test\",\n",
        "        )\n",
        "        plt.text(\n",
        "            len(signal),\n",
        "            test_eval,\n",
        "            \"{:.3f}\".format(test_eval),\n",
        "        )\n",
        "    # set x- and ylabels, add legend, save the figure\n",
        "    plt.xlabel(xlabel), plt.ylabel(ylabel)\n",
        "    plt.legend()\n",
        "    plt.savefig(name + file_name, bbox_inches=\"tight\")\n",
        "    plt.show()"
      ]
    },
    {
      "cell_type": "markdown",
      "metadata": {
        "id": "YzRd-TiY3puF"
      },
      "source": [
        "### 2.3 Training procedure"
      ]
    },
    {
      "cell_type": "code",
      "execution_count": null,
      "metadata": {
        "id": "CMhQWbM1QcBM"
      },
      "outputs": [],
      "source": [
        "# PLEASE DO NOT REMOVE!\n",
        "# The training procedure\n",
        "def training(\n",
        "    name, max_patience, num_epochs, model, optimizer, training_loader, val_loader\n",
        "):\n",
        "    nll_val = []\n",
        "    error_val = []\n",
        "    best_nll = 1000.0\n",
        "    patience = 0\n",
        "\n",
        "    # Main training loop\n",
        "    for e in range(num_epochs):\n",
        "        model.train()  # set the model to the training mode\n",
        "        # load batches\n",
        "        for indx_batch, (batch, targets) in enumerate(training_loader):\n",
        "            # calculate the forward pass (loss function for given images and labels)\n",
        "            loss = model.forward(batch, targets)\n",
        "            # remember we need to zero gradients! Just in case!\n",
        "            optimizer.zero_grad()\n",
        "            # calculate backward pass\n",
        "            loss.backward(retain_graph=True)\n",
        "            # run the optimizer\n",
        "            optimizer.step()\n",
        "\n",
        "        # Validation: Evaluate the model on the validation data\n",
        "        loss_e, error_e = evaluation(val_loader, model_best=model, epoch=e)\n",
        "        nll_val.append(loss_e)  # save for plotting\n",
        "        error_val.append(error_e)  # save for plotting\n",
        "\n",
        "        # Early-stopping: update the best performing model and break training if no\n",
        "        # progress is observed.\n",
        "        if e == 0:\n",
        "            torch.save(model, name + \".model\")\n",
        "            best_nll = loss_e\n",
        "        else:\n",
        "            if loss_e < best_nll:\n",
        "                torch.save(model, name + \".model\")\n",
        "                best_nll = loss_e\n",
        "                patience = 0\n",
        "            else:\n",
        "                patience = patience + 1\n",
        "\n",
        "        if patience > max_patience:\n",
        "            break\n",
        "\n",
        "    # Return nll and classification error.\n",
        "    nll_val = np.asarray(nll_val)\n",
        "    error_val = np.asarray(error_val)\n",
        "\n",
        "    return nll_val, error_val"
      ]
    },
    {
      "cell_type": "markdown",
      "metadata": {
        "id": "gHYGz3G87nuk"
      },
      "source": [
        "### 2.4 Experiments"
      ]
    },
    {
      "cell_type": "markdown",
      "metadata": {
        "id": "op-YbN-JREqw"
      },
      "source": [
        "#### Initialize dataloaders"
      ]
    },
    {
      "cell_type": "code",
      "execution_count": null,
      "metadata": {
        "id": "R_cRaP3gRET1"
      },
      "outputs": [],
      "source": [
        "# PLEASE DO NOT REMOVE\n",
        "# Initialize training, validation and test sets.\n",
        "train_data = Digits(mode=\"train\")\n",
        "val_data = Digits(mode=\"val\")\n",
        "test_data = Digits(mode=\"test\")\n",
        "\n",
        "# Initialize data loaders.\n",
        "training_loader = DataLoader(train_data, batch_size=64, shuffle=True)\n",
        "val_loader = DataLoader(val_data, batch_size=64, shuffle=False)\n",
        "test_loader = DataLoader(test_data, batch_size=64, shuffle=False)"
      ]
    },
    {
      "cell_type": "code",
      "execution_count": null,
      "metadata": {
        "id": "2Lqwm5c3oRia",
        "colab": {
          "base_uri": "https://localhost:8080/"
        },
        "outputId": "89bd9c9c-7971-465a-d263-21e1f9c24fc1"
      },
      "outputs": [
        {
          "output_type": "stream",
          "name": "stdout",
          "text": [
            "How do we get our data from Digits class? \n",
            "\n",
            "Feature example: [ 0.  0.  0. 12. 13.  5.  0.  0.  0.  0.  0. 11. 16.  9.  0.  0.  0.  0.\n",
            "  3. 15. 16.  6.  0.  0.  0.  7. 15. 16. 16.  2.  0.  0.  0.  0.  1. 16.\n",
            " 16.  3.  0.  0.  0.  0.  1. 16. 16.  6.  0.  0.  0.  0.  1. 16. 16.  6.\n",
            "  0.  0.  0.  0.  0. 11. 16. 10.  0.  0.]\n",
            "Label example: 1\n"
          ]
        }
      ],
      "source": [
        "print(\"How do we get our data from Digits class? \\n\")\n",
        "print(f\"Feature example: {train_data[1][0]}\")\n",
        "#print(f\"Feature example shape: {example.shape}\")\n",
        "print(f\"Label example: {train_data[1][1]}\")"
      ]
    },
    {
      "cell_type": "code",
      "execution_count": null,
      "metadata": {
        "id": "F5OuaSTOhocZ",
        "colab": {
          "base_uri": "https://localhost:8080/"
        },
        "outputId": "4a6d51dc-323e-4114-9303-ff3bb6fd32f5"
      },
      "outputs": [
        {
          "output_type": "stream",
          "name": "stdout",
          "text": [
            "How do we get our data from Pytorch DataLoader class? \n",
            "\n",
            "Feature batch shape: torch.Size([64, 64])\n",
            "Labels batch shape: torch.Size([64])\n",
            "\n",
            "\n",
            "What happens if we reshape a feature batch? \n",
            "\n",
            "Feature batch shape after reshape: torch.Size([64, 1, 8, 8])\n",
            "\n",
            "\n",
            "What happens if we flatten a reshaped feature batch? \n",
            "\n",
            "Feature batch shape after flatten: torch.Size([64, 64])\n"
          ]
        }
      ],
      "source": [
        "print(\"How do we get our data from Pytorch DataLoader class? \\n\")\n",
        "train_features, train_labels = next(iter(training_loader))\n",
        "print(f\"Feature batch shape: {train_features.size()}\")\n",
        "print(f\"Labels batch shape: {train_labels.size()}\")\n",
        "\n",
        "print(\"\\n\\nWhat happens if we reshape a feature batch? \\n\")\n",
        "reshape = Reshape(size=(1, 8, 8))\n",
        "train_features_reshaped = reshape(train_features)\n",
        "print(f\"Feature batch shape after reshape: {train_features_reshaped.size()}\")\n",
        "\n",
        "print(\"\\n\\nWhat happens if we flatten a reshaped feature batch? \\n\")\n",
        "flatten = Flatten()\n",
        "train_features_flattened = flatten(train_features_reshaped)\n",
        "print(f\"Feature batch shape after flatten: {train_features_flattened.size()}\")"
      ]
    },
    {
      "cell_type": "markdown",
      "metadata": {
        "id": "s3ni_8Pv3iuG"
      },
      "source": [
        "#### Initialize hyperparameters"
      ]
    },
    {
      "cell_type": "code",
      "execution_count": null,
      "metadata": {
        "id": "dnMs4gcLRLEK"
      },
      "outputs": [],
      "source": [
        "# PLEASE DO NOT REMOVE\n",
        "# Hyperparameters\n",
        "# -> data hyperparams\n",
        "D = 64  # input dimension\n",
        "\n",
        "# -> model hyperparams\n",
        "M = 256  # the number of neurons in scale (s) and translation (t) nets\n",
        "K = 10  # the number of labels\n",
        "num_kernels = 32  # the number of kernels for CNN\n",
        "\n",
        "# -> training hyperparams\n",
        "lr = 1e-3  # learning rate\n",
        "wd = 1e-5  # weight decay\n",
        "num_epochs = 1000  # max. number of epochs\n",
        "max_patience = 20  # an early stopping is used, if training doesn't improve for longer than 20 epochs, it is stopped"
      ]
    },
    {
      "cell_type": "markdown",
      "metadata": {
        "id": "9VDyHP173vLF"
      },
      "source": [
        "#### Running experiments"
      ]
    },
    {
      "cell_type": "markdown",
      "metadata": {
        "id": "f9T9nXcE3xF2"
      },
      "source": [
        "In the code below, you are supposed to implement architectures for MLP and CNN. For properly implementing these architectures, you can get 0.5pt for each of them."
      ]
    },
    {
      "cell_type": "code",
      "execution_count": null,
      "metadata": {
        "id": "AZH7ahwBRP9B",
        "colab": {
          "base_uri": "https://localhost:8080/",
          "height": 1000
        },
        "outputId": "12be4221-5e79-4c59-b70c-e6ef5018ec75"
      },
      "outputs": [
        {
          "output_type": "stream",
          "name": "stdout",
          "text": [
            "\n",
            "-> START classifier_mlp\n",
            "Epoch: 0, val nll=1.8480962807791574, val ce=0.24\n",
            "Epoch: 10, val nll=0.4665066691807338, val ce=0.054285714285714284\n",
            "Epoch: 20, val nll=0.2628219904218401, val ce=0.037142857142857144\n",
            "Epoch: 30, val nll=0.18994483402797155, val ce=0.02857142857142857\n",
            "Epoch: 40, val nll=0.15310550008501325, val ce=0.025714285714285714\n",
            "Epoch: 50, val nll=0.13324269158499583, val ce=0.022857142857142857\n",
            "Epoch: 60, val nll=0.12116900035313198, val ce=0.022857142857142857\n",
            "Epoch: 70, val nll=0.11076010704040527, val ce=0.022857142857142857\n",
            "Epoch: 80, val nll=0.10347169331141881, val ce=0.02\n",
            "Epoch: 90, val nll=0.09907289573124477, val ce=0.02\n",
            "Epoch: 100, val nll=0.09438885961260114, val ce=0.02\n",
            "Epoch: 110, val nll=0.0924194233758109, val ce=0.02\n",
            "Epoch: 120, val nll=0.09076696498053415, val ce=0.02\n",
            "Epoch: 130, val nll=0.08702083689825875, val ce=0.02\n",
            "Epoch: 140, val nll=0.08650185278483799, val ce=0.02\n",
            "Epoch: 150, val nll=0.08589309351784842, val ce=0.02\n",
            "Epoch: 160, val nll=0.08570487362997872, val ce=0.02\n",
            "Epoch: 170, val nll=0.08462537697383336, val ce=0.02\n",
            "Epoch: 180, val nll=0.08514516200338092, val ce=0.02\n",
            "Epoch: 190, val nll=0.0839490326813289, val ce=0.02\n",
            "-> FINAL PERFORMANCE: nll=0.2732500549930854, ce=0.0738255033557047\n"
          ]
        },
        {
          "output_type": "display_data",
          "data": {
            "text/plain": [
              "<Figure size 640x480 with 1 Axes>"
            ],
            "image/png": "[encoded data removed]"
          },
          "metadata": {}
        },
        {
          "output_type": "display_data",
          "data": {
            "text/plain": [
              "<Figure size 640x480 with 1 Axes>"
            ],
            "image/png": "[encoded data removed]"
          },
          "metadata": {}
        },
        {
          "output_type": "stream",
          "name": "stdout",
          "text": [
            "\n",
            "-> START classifier_cnn\n",
            "Epoch: 0, val nll=2.304352743966239, val ce=0.8971428571428571\n",
            "Epoch: 10, val nll=2.129873984200614, val ce=0.38285714285714284\n",
            "Epoch: 20, val nll=1.3151385498046875, val ce=0.2742857142857143\n",
            "Epoch: 30, val nll=0.7231091690063477, val ce=0.18285714285714286\n",
            "Epoch: 40, val nll=0.4324891117640904, val ce=0.09142857142857143\n",
            "Epoch: 50, val nll=0.29420688356672015, val ce=0.07428571428571429\n",
            "Epoch: 60, val nll=0.21704268319266182, val ce=0.06\n",
            "Epoch: 70, val nll=0.17093067305428641, val ce=0.045714285714285714\n",
            "Epoch: 80, val nll=0.1447831630706787, val ce=0.04285714285714286\n",
            "Epoch: 90, val nll=0.1279918166569301, val ce=0.03428571428571429\n",
            "Epoch: 100, val nll=0.11438483851296562, val ce=0.03428571428571429\n",
            "Epoch: 110, val nll=0.1005510595866612, val ce=0.02857142857142857\n",
            "Epoch: 120, val nll=0.09571987083980016, val ce=0.02857142857142857\n",
            "Epoch: 130, val nll=0.08708367279597691, val ce=0.025714285714285714\n",
            "Epoch: 140, val nll=0.08426263775144305, val ce=0.02857142857142857\n",
            "Epoch: 150, val nll=0.08008909838540214, val ce=0.022857142857142857\n",
            "Epoch: 160, val nll=0.07472264323915755, val ce=0.02\n",
            "Epoch: 170, val nll=0.07180784123284475, val ce=0.02\n",
            "Epoch: 180, val nll=0.07115218162536621, val ce=0.02\n",
            "Epoch: 190, val nll=0.06666866132191249, val ce=0.02\n",
            "Epoch: 200, val nll=0.06638425809996469, val ce=0.02\n",
            "Epoch: 210, val nll=0.06392280084746224, val ce=0.02\n",
            "Epoch: 220, val nll=0.06431220923151289, val ce=0.02\n",
            "Epoch: 230, val nll=0.061152233736855646, val ce=0.02\n",
            "Epoch: 240, val nll=0.06066078850201198, val ce=0.02\n",
            "Epoch: 250, val nll=0.06047590630395072, val ce=0.02\n",
            "Epoch: 260, val nll=0.06073699848992484, val ce=0.02\n",
            "Epoch: 270, val nll=0.05913104772567749, val ce=0.02\n",
            "Epoch: 280, val nll=0.056750070197241646, val ce=0.017142857142857144\n",
            "Epoch: 290, val nll=0.056624447447913034, val ce=0.022857142857142857\n",
            "Epoch: 300, val nll=0.05531787923404149, val ce=0.017142857142857144\n",
            "Epoch: 310, val nll=0.055106067657470705, val ce=0.017142857142857144\n",
            "Epoch: 320, val nll=0.055897152764456615, val ce=0.017142857142857144\n",
            "Epoch: 330, val nll=0.05290860533714294, val ce=0.017142857142857144\n",
            "Epoch: 340, val nll=0.05441168367862701, val ce=0.017142857142857144\n",
            "Epoch: 350, val nll=0.053612069913319176, val ce=0.014285714285714285\n",
            "Epoch: 360, val nll=0.05288439929485321, val ce=0.017142857142857144\n",
            "Epoch: 370, val nll=0.04983462819031307, val ce=0.017142857142857144\n",
            "-> FINAL PERFORMANCE: nll=0.15377295790636034, ce=0.04697986577181208\n"
          ]
        },
        {
          "output_type": "display_data",
          "data": {
            "text/plain": [
              "<Figure size 640x480 with 1 Axes>"
            ],
            "image/png": "[encoded data removed]"
          },
          "metadata": {}
        },
        {
          "output_type": "display_data",
          "data": {
            "text/plain": [
              "<Figure size 640x480 with 1 Axes>"
            ],
            "image/png": "[encoded data removed]"
          },
          "metadata": {}
        }
      ],
      "source": [
        "# PLEASE DO NOT REMOVE and FILL IN WHEN NECESSARY!\n",
        "# We will run two models: MLP and CNN\n",
        "names = [\"classifier_mlp\", \"classifier_cnn\"]\n",
        "\n",
        "# loop over models\n",
        "for name in names:\n",
        "    print(\"\\n-> START {}\".format(name))\n",
        "    # Create a folder (REMEMBER: You must mount your drive if you use Colab!)\n",
        "    if name == \"classifier_mlp\":\n",
        "        name = name + \"_M_\" + str(M)\n",
        "    elif name == \"classifier_cnn\":\n",
        "        name = name + \"_M_\" + str(M) + \"_kernels_\" + str(num_kernels)\n",
        "\n",
        "\n",
        "    # Create a folder if necessary\n",
        "    result_dir = os.path.join(results_dir, \"results\", name + \"/\")\n",
        "\n",
        "    # =========\n",
        "    # MAKE SURE THAT \"result_dir\" IS A PATH TO A LOCAL FOLDER OR A GOOGLE COLAB FOLDER (DEFINED IN CELL 3)\n",
        "    result_dir = \"/content/gdrive/MyDrive/Colab Notebooks/assignment_4\"  # (current folder)\n",
        "    # =========\n",
        "    if not (os.path.exists(result_dir)):\n",
        "        os.mkdir(result_dir)\n",
        "\n",
        "    # MLP\n",
        "    if name[0:14] == \"classifier_mlp\":\n",
        "        # =========\n",
        "        # GRADING:\n",
        "        # 0\n",
        "        # 0.5pt if properly implemented\n",
        "        # =========\n",
        "        # ------\n",
        "        # PLEASE FILL IN:\n",
        "        classnet = nn.Sequential(\n",
        "            nn.Linear(D, M),\n",
        "            nn.Sigmoid(),\n",
        "            nn.Linear(M, K),\n",
        "            nn.LogSoftmax(dim=1)\n",
        "\n",
        "        )\n",
        "        # You are asked here to propose your own architecture\n",
        "        # NOTE: Please remember that the output must be LogSoftmax!\n",
        "        # ------\n",
        "        pass\n",
        "\n",
        "    # CNN\n",
        "    elif name[0:14] == \"classifier_cnn\":\n",
        "        # =========\n",
        "        # GRADING:\n",
        "        # 0\n",
        "        # 0.5pt if properly implemented\n",
        "        # =========\n",
        "        # ------\n",
        "        # PLEASE FILL IN:\n",
        "        classnet = nn.Sequential(\n",
        "            # Start by using Reshape(size) as the first layer making the array flat\n",
        "            Reshape((1, 8, 8)),\n",
        "            # This is the first 2D convolutional\n",
        "            nn.Conv2d(1, num_kernels, kernel_size=3, padding=1),\n",
        "            nn.Sigmoid(),\n",
        "            nn.MaxPool2d(kernel_size=2, stride=2),\n",
        "            # This is the second 2D convolutional\n",
        "            nn.Conv2d(num_kernels, num_kernels*2, kernel_size=3, padding=1),\n",
        "            nn.Sigmoid(),\n",
        "            nn.MaxPool2d(kernel_size=2, stride=2),\n",
        "            # Flatten()\n",
        "            # layers and before linear layers.\n",
        "            Flatten(),\n",
        "            nn.Linear(num_kernels*8, M),\n",
        "            nn.Sigmoid(),\n",
        "            nn.Linear(M, K),\n",
        "            # Please remember that the output must be LogSoftmax!\n",
        "            nn.LogSoftmax(dim=1)\n",
        "        )\n",
        "        # You are asked here to propose your own architecture\n",
        "        # NOTE: Plese note that the images are represented as vectors, thus, you must\n",
        "        # use Reshape(size) as the first layer, and Flatten() after all convolutional\n",
        "        # layers and before linear layers.\n",
        "        # NOTE: Please remember that the output must be LogSoftmax!\n",
        "        # ------\n",
        "        pass\n",
        "\n",
        "    # Init ClassifierNN\n",
        "    model = ClassifierNeuralNet(classnet)\n",
        "\n",
        "    # Init OPTIMIZER (here we use ADAMAX)\n",
        "    optimizer = torch.optim.Adamax(\n",
        "        [p for p in model.parameters() if p.requires_grad == True],\n",
        "        lr=lr,\n",
        "        weight_decay=wd,\n",
        "    )\n",
        "\n",
        "    # Training procedure\n",
        "    nll_val, error_val = training(\n",
        "        name=result_dir + name,\n",
        "        max_patience=max_patience,\n",
        "        num_epochs=num_epochs,\n",
        "        model=model,\n",
        "        optimizer=optimizer,\n",
        "        training_loader=training_loader,\n",
        "        val_loader=val_loader,\n",
        "    )\n",
        "\n",
        "    # The final evaluation (on the test set)\n",
        "    test_loss, test_error = evaluation(name=result_dir + name, test_loader=test_loader)\n",
        "    # write the results to a file\n",
        "    f = open(result_dir + name + \"_test_loss.txt\", \"w\")\n",
        "    f.write(\"NLL: \" + str(test_loss) + \"\\nCE: \" + str(test_error))\n",
        "    f.close()\n",
        "    # create curves\n",
        "    plot_curve(\n",
        "        result_dir + name,\n",
        "        nll_val,\n",
        "        file_name=\"_nll_val_curve.pdf\",\n",
        "        ylabel=\"nll\",\n",
        "        test_eval=test_loss,\n",
        "    )\n",
        "    plot_curve(\n",
        "        result_dir + name,\n",
        "        error_val,\n",
        "        file_name=\"_ca_val_curve.pdf\",\n",
        "        ylabel=\"ce\",\n",
        "        color=\"r-\",\n",
        "        test_eval=test_error,\n",
        "    )"
      ]
    },
    {
      "cell_type": "markdown",
      "metadata": {
        "id": "oFX-DzH9ftPg"
      },
      "source": [
        "## 2.5 Analysis"
      ]
    },
    {
      "cell_type": "markdown",
      "metadata": {
        "id": "2-TFtGdZfz3a"
      },
      "source": [
        "**Question 3 (0-0.5pt)**: Please compare the convergence of MLP and CNN in terms of the loss function and the classification error.\n",
        "\n",
        "**Answer**:\n",
        "The result of the MLP are as follows:nll=0.2732500549930854, ce=0.0738255033557047\n",
        "The results for the CNN are as follows: nll=0.15377295790636034, ce=0.04697986577181208\n",
        "As shown above mlp model has nll (negative log likelihood) value approximately 0.27 and the cnn model has nll value approximately 0.15. Thus it is clear to see that the cnn obtains better results and has better probability distribution compared to mlp model. There is a negligible difference in the  classification error in both models, there is a correctness of classification more than 90%. In conclusion, it is clear that the cnn model performs faster and converges better to the solution."
      ]
    },
    {
      "cell_type": "markdown",
      "metadata": {
        "id": "0f2P57ZmlwXz"
      },
      "source": [
        "**Question 4 (0-0.5pt)**: In general, for a properly picked architectures, a CNN should work better than an MLP. Did you notice that? Why (in general) CNNs are better suited to images than MLPs?\n",
        "\n",
        "**Answer**: I did indeed notice that the CNN worked better than the MLP. It converged faster and to better results than the MLP as can be seen from the convergence graphs that were produced. I think its due to the fact that cnn are generally the go to method from image classification in the wider image recognition/categorization part of AI research/industry. A reason for this could be than CNNs unlike MLPs have the ability to extract understand patterns in the images as well as extract spatial relations.\n",
        "\n"
      ]
    },
    {
      "cell_type": "markdown",
      "metadata": {
        "id": "1QJ_mRdT7Ais"
      },
      "source": [
        "## 3 Application to Street House View Numbers (SVHN) (6pt)"
      ]
    },
    {
      "cell_type": "markdown",
      "metadata": {
        "id": "YHhUUaYL7GEx"
      },
      "source": [
        "Please repeat (some) of the code in the previous section and apply a bigger convolutional neural network (CNN) to the following dataset:\n",
        "\n",
        "http://ufldl.stanford.edu/housenumbers/\n",
        "\n",
        "Please follow the following steps:\n",
        "1. (1pt) Create appropriate Dataset class. Please remember to use the original training data and test data, and also to create a validation set from the traning data (at least 10% of the training examples). **Do not use extra examples!**\n",
        "2. (1pt) Implement an architecture that will give at most 0.1 classification error. For instance, see this paper as a reference: https://arxiv.org/pdf/1204.3968.pdf#:~:text=The%20SVHN%20classification%20dataset%20%5B8,set%20of%20more%20difficult%20samples\n",
        "3. (1pt) Think of an extra component that could improve the performance (e.g., a regularization, specific activation functions).\n",
        "4. (1pt) Provide a good explanation of the applied architecture and a description of all components.\n",
        "5. (2pt) Analyze the results.\n",
        "\n",
        "**Please be very precise, comment your code and provide a comprehensive and clear analysis.**"
      ]
    },
    {
      "cell_type": "markdown",
      "metadata": {
        "id": "XsisowzvDEfe"
      },
      "source": [
        "(1) Create appropriate Dataset class. Please remember to use the original training data and test data, and also to create a validation set from the traning data (at least 10% of the training examples). Do not use extra examples!"
      ]
    },
    {
      "cell_type": "code",
      "execution_count": null,
      "metadata": {
        "id": "XOkGnOc6DEfe"
      },
      "outputs": [],
      "source": [
        "import torch\n",
        "from torch.utils.data import Dataset, DataLoader, random_split\n",
        "from torchvision.datasets import SVHN\n",
        "from torchvision import transforms\n",
        "from torchvision.transforms import ToTensor"
      ]
    },
    {
      "cell_type": "code",
      "execution_count": null,
      "metadata": {
        "id": "UfcqnDevDEff"
      },
      "outputs": [],
      "source": [
        "class SVHNDataset(Dataset):\n",
        "    def __init__(self, mode=\"train\", transforms=None):\n",
        "        self.mode = mode\n",
        "        self.transforms = transforms\n",
        "        if mode == \"train\":\n",
        "           self.dataset = SVHN(root=\"./data\", split=\"train\", download=True)\n",
        "        elif mode == \"val\":\n",
        "            self.dataset = SVHN(root=\"./data\", split=\"train\", download=True)\n",
        "            self.dataset.data = self.dataset.data[50000:]\n",
        "            self.dataset.labels = self.dataset.labels[50000:]\n",
        "        else: #split test data\n",
        "            self.dataset = SVHN(root=\"./data\", split=\"test\", download=True)\n",
        "\n",
        "    def __len__(self):\n",
        "        return len(self.dataset)\n",
        "\n",
        "    def __getitem__(self, idx):\n",
        "        image, label = self.dataset[idx]\n",
        "        if self.transforms:\n",
        "            image = self.transforms(image)\n",
        "        return (image, label)"
      ]
    },
    {
      "cell_type": "code",
      "execution_count": null,
      "metadata": {
        "colab": {
          "base_uri": "https://localhost:8080/"
        },
        "id": "5uEHeGbpDEff",
        "outputId": "cfd15537-68eb-4af6-e6a8-940451872728"
      },
      "outputs": [
        {
          "output_type": "stream",
          "name": "stdout",
          "text": [
            "Downloading http://ufldl.stanford.edu/housenumbers/train_32x32.mat to ./data/train_32x32.mat\n"
          ]
        },
        {
          "output_type": "stream",
          "name": "stderr",
          "text": [
            "100%|██████████| 182040794/182040794 [00:39<00:00, 4597961.07it/s]\n"
          ]
        },
        {
          "output_type": "stream",
          "name": "stdout",
          "text": [
            "Using downloaded and verified file: ./data/train_32x32.mat\n",
            "Downloading http://ufldl.stanford.edu/housenumbers/test_32x32.mat to ./data/test_32x32.mat\n"
          ]
        },
        {
          "output_type": "stream",
          "name": "stderr",
          "text": [
            "100%|██████████| 64275384/64275384 [01:35<00:00, 671845.03it/s]\n"
          ]
        }
      ],
      "source": [
        "train_data = SVHNDataset(mode=\"train\", transforms=transforms.Compose([ToTensor()]))\n",
        "val_data = SVHNDataset(mode=\"val\",  transforms=transforms.Compose([ToTensor()]))\n",
        "test_data = SVHNDataset(mode=\"test\",  transforms=transforms.Compose([ToTensor()]))\n",
        "\n",
        "\n",
        "train_loader = DataLoader(train_data, batch_size=64, shuffle=True)\n",
        "val_loader = DataLoader(val_data, batch_size=64, shuffle=False)\n",
        "test_loader = DataLoader(test_data, batch_size=64, shuffle=False)"
      ]
    },
    {
      "cell_type": "code",
      "execution_count": null,
      "metadata": {
        "colab": {
          "base_uri": "https://localhost:8080/"
        },
        "id": "lVES0NpbDEff",
        "outputId": "f1304500-036f-4697-ae4f-99d393d952c0"
      },
      "outputs": [
        {
          "output_type": "stream",
          "name": "stdout",
          "text": [
            "How do we get our data from Digits class? \n",
            "\n",
            "Feature example: tensor([[[0.3294, 0.3373, 0.3020,  ..., 0.3529, 0.3451, 0.3451],\n",
            "         [0.3333, 0.3255, 0.2902,  ..., 0.3490, 0.3451, 0.3451],\n",
            "         [0.3255, 0.3059, 0.2392,  ..., 0.3529, 0.3451, 0.3333],\n",
            "         ...,\n",
            "         [0.3922, 0.3843, 0.3725,  ..., 0.4078, 0.4000, 0.3922],\n",
            "         [0.4039, 0.4157, 0.4039,  ..., 0.4039, 0.4039, 0.4118],\n",
            "         [0.4039, 0.4039, 0.4078,  ..., 0.4431, 0.4078, 0.4039]],\n",
            "\n",
            "        [[0.2980, 0.2863, 0.3059,  ..., 0.3059, 0.3020, 0.3059],\n",
            "         [0.3020, 0.2863, 0.2706,  ..., 0.3216, 0.3098, 0.3176],\n",
            "         [0.2980, 0.3020, 0.1961,  ..., 0.3333, 0.3255, 0.3216],\n",
            "         ...,\n",
            "         [0.3843, 0.3686, 0.3647,  ..., 0.4078, 0.4000, 0.3961],\n",
            "         [0.4078, 0.4078, 0.4039,  ..., 0.4078, 0.4039, 0.3882],\n",
            "         [0.4157, 0.4118, 0.4157,  ..., 0.4039, 0.4078, 0.3843]],\n",
            "\n",
            "        [[0.2314, 0.2588, 0.2196,  ..., 0.2706, 0.2627, 0.2588],\n",
            "         [0.2392, 0.2510, 0.2314,  ..., 0.2510, 0.2745, 0.2627],\n",
            "         [0.2353, 0.2275, 0.2118,  ..., 0.2471, 0.2588, 0.2745],\n",
            "         ...,\n",
            "         [0.2824, 0.2980, 0.2863,  ..., 0.3373, 0.3412, 0.3059],\n",
            "         [0.3098, 0.3098, 0.3412,  ..., 0.3373, 0.3412, 0.3176],\n",
            "         [0.3216, 0.3412, 0.3569,  ..., 0.3451, 0.3451, 0.3137]]])\n",
            "Label example: 9\n"
          ]
        }
      ],
      "source": [
        "print(\"How do we get our data from Digits class? \\n\")\n",
        "print(f\"Feature example: {train_data[1][0]}\")\n",
        "#print(f\"Feature example shape: {example.shape}\")\n",
        "print(f\"Label example: {train_data[1][1]}\")"
      ]
    },
    {
      "cell_type": "markdown",
      "metadata": {
        "id": "GruK_0VjDEfg"
      },
      "source": [
        "(2) Implement an architecture that will give at most 0.1 classification error.\n",
        "\n",
        "Note: The three layer architecture was inspired by this code from kaggle:\n",
        "\n",
        "https://www.kaggle.com/code/dimitriosroussis/svhn-classification-with-cnn-keras-96-acc"
      ]
    },
    {
      "cell_type": "code",
      "execution_count": null,
      "metadata": {
        "id": "ZB53cYrYDEfg"
      },
      "outputs": [],
      "source": [
        "class SVHNClassifierNeuralNet(nn.Module):\n",
        "    def __init__(self):\n",
        "        super(SVHNClassifierNeuralNet, self).__init__()\n",
        "        # convolutional layers are added with nn.Sequential\n",
        "        self.conv1 = nn.Sequential(\n",
        "            nn.Conv2d(3, 32, kernel_size=3, padding=1),\n",
        "            nn.BatchNorm2d(32),\n",
        "            nn.Sigmoid(inplace=True))\n",
        "        self.conv2 = nn.Sequential(\n",
        "            nn.Conv2d(32, 64, kernel_size=3, padding=1),\n",
        "            nn.BatchNorm2d(64),\n",
        "            nn.Sigmoid(inplace=True))\n",
        "        self.conv3 = nn.Sequential(\n",
        "            nn.Conv2d(64, 128, kernel_size=3, padding=1),\n",
        "            nn.BatchNorm2d(128),\n",
        "            nn.Sigmoid(inplace=True))\n",
        "        # fully connected layers are defined\n",
        "        self.fc1 = nn.Sequential(\n",
        "            nn.Linear(2048, 256),\n",
        "            nn.Sigmoid(inplace=True))\n",
        "        self.fc2 = nn.Linear(256, 10)\n",
        "        # pooling layer with maxpool2d\n",
        "        self.pool = nn.MaxPool2d(kernel_size=2, stride=2)\n",
        "        # dropout is used to improve the performance\n",
        "        self.dropout = nn.Dropout(p=0.2)\n",
        "        # nll loss function is defined to calculate loss\n",
        "        #the negative log-likelihood dfunction\n",
        "        self.nll = nn.NLLLoss(reduction=\"none\")\n",
        "\n",
        "    def forward(self, x, y, reduction=\"avg\"):\n",
        "        # forward method\n",
        "        # we get the output\n",
        "        x = self.pool(self.conv1(x))\n",
        "        x = self.pool(self.conv2(x))\n",
        "        x = self.pool(self.conv3(x))\n",
        "        x = x.view(-1, 2048)\n",
        "        x = self.dropout(self.fc1(x))\n",
        "        x = self.fc2(x)\n",
        "        #we calculate loss with nllloss function between y and output\n",
        "        loss = self.nll(F.log_softmax(x, dim=1), y)\n",
        "        if reduction == \"sum\":\n",
        "            return loss.sum()\n",
        "        else:\n",
        "            return loss.mean()\n",
        "\n",
        "    def classify(self, x):\n",
        "        x = self.pool(self.conv1(x))\n",
        "        x = self.pool(self.conv2(x))\n",
        "        x = self.pool(self.conv3(x))\n",
        "        x = x.view(-1, 2048)\n",
        "        x = self.dropout(self.fc1(x))\n",
        "        x = self.fc2(x)\n",
        "        # index of maximum value and assign it to predicted one\n",
        "        x = F.log_softmax(x, dim=1)\n",
        "        _, y_pred = x.max(dim=1)\n",
        "        #return predicted label\n",
        "        return y_pred"
      ]
    },
    {
      "cell_type": "code",
      "execution_count": null,
      "metadata": {
        "id": "OeuXi7rnDEfh"
      },
      "outputs": [],
      "source": [
        "# PLEASE DO NOT REMOVE\n",
        "# Hyperparameters\n",
        "# -> data hyperparams\n",
        "D = 64  # input dimension\n",
        "\n",
        "# -> model hyperparams\n",
        "M = 512  # the number of neurons in scale (s) and translation (t) nets\n",
        "K = 10  # the number of labels\n",
        "num_kernels = 32  # the number of kernels for CNN\n",
        "\n",
        "# -> training hyperparams\n",
        "lr = 1e-3  # learning rate\n",
        "wd = 1e-5  # weight decay\n",
        "num_epochs = 100  # max. number of epochs\n",
        "max_patience = 20  # an early stopping is used, if training doesn't improve for longer than 20 epochs, it is stopped"
      ]
    },
    {
      "cell_type": "code",
      "execution_count": null,
      "metadata": {
        "id": "SSgXlGMMDEfh"
      },
      "outputs": [],
      "source": [
        "# PLEASE DO NOT REMOVE\n",
        "def evaluation(test_loader, name=None, model_best=None, epoch=None):\n",
        "    # If available, load the best performing model\n",
        "    if model_best is None:\n",
        "        model_best = torch.load(name + \".model\")\n",
        "\n",
        "    model_best.eval()  # set the model to the evaluation mode\n",
        "    loss_test = 0.0\n",
        "    loss_error = 0.0\n",
        "    N = 0.0\n",
        "    # start evaluation\n",
        "    for indx_batch, (test_batch, test_targets) in enumerate(test_loader):\n",
        "        # loss (nll)\n",
        "        test_batch, test_targets = test_batch.to('cuda'), test_targets.to('cuda')\n",
        "        loss_test_batch = model_best.forward(test_batch, test_targets, reduction=\"sum\")\n",
        "        loss_test = loss_test + loss_test_batch.item()\n",
        "        # classification error\n",
        "        y_pred = model_best.classify(test_batch)\n",
        "        e = 1.0 * (y_pred == test_targets)\n",
        "        loss_error = loss_error + (1.0 - e).sum().item()\n",
        "        # the number of examples\n",
        "        N = N + test_batch.shape[0]\n",
        "    # divide by the number of examples\n",
        "    loss_test = loss_test / N\n",
        "    loss_error = loss_error / N\n",
        "\n",
        "    # Print the performance\n",
        "    if epoch is None:\n",
        "        print(f\"-> FINAL PERFORMANCE: nll={loss_test}, ce={loss_error}\")\n",
        "    else:\n",
        "        if epoch % 10 == 0:\n",
        "            print(f\"Epoch: {epoch}, val nll={loss_test}, val ce={loss_error}\")\n",
        "\n",
        "    return loss_test, loss_error\n",
        "\n",
        "\n",
        "# An auxiliary function for plotting the performance curves\n",
        "def plot_curve(\n",
        "    name,\n",
        "    signal,\n",
        "    file_name=\"curve.pdf\",\n",
        "    xlabel=\"epochs\",\n",
        "    ylabel=\"nll\",\n",
        "    color=\"b-\",\n",
        "    test_eval=None,\n",
        "):\n",
        "    # plot the curve\n",
        "    plt.plot(\n",
        "        np.arange(len(signal)), signal, color, linewidth=\"3\", label=ylabel + \" val\"\n",
        "    )\n",
        "    # if available, add the final (test) performance\n",
        "    if test_eval is not None:\n",
        "        plt.hlines(\n",
        "            test_eval,\n",
        "            xmin=0,\n",
        "            xmax=len(signal),\n",
        "            linestyles=\"dashed\",\n",
        "            label=ylabel + \" test\",\n",
        "        )\n",
        "        plt.text(\n",
        "            len(signal),\n",
        "            test_eval,\n",
        "            \"{:.3f}\".format(test_eval),\n",
        "        )\n",
        "    # set x- and ylabels, add legend, save the figure\n",
        "    plt.xlabel(xlabel), plt.ylabel(ylabel)\n",
        "    plt.legend()\n",
        "    plt.savefig(name + file_name, bbox_inches=\"tight\")\n",
        "    plt.show()"
      ]
    },
    {
      "cell_type": "code",
      "execution_count": null,
      "metadata": {
        "id": "AZj71LhIDEfi"
      },
      "outputs": [],
      "source": [
        "# PLEASE DO NOT REMOVE!\n",
        "# The training procedure\n",
        "def training(\n",
        "    name, max_patience, num_epochs, model, optimizer, training_loader, val_loader\n",
        "):\n",
        "    nll_val = []\n",
        "    error_val = []\n",
        "    best_nll = 1000.0\n",
        "    patience = 0\n",
        "\n",
        "    # Main training loop\n",
        "    for e in range(num_epochs):\n",
        "        model.train()  # set the model to the training mode\n",
        "        # load batches\n",
        "        for indx_batch, (batch, targets) in enumerate(training_loader):\n",
        "            batch, targets = batch.to('cuda'), targets.to('cuda')\n",
        "            # calculate the forward pass (loss function for given images and labels)\n",
        "            loss = model.forward(batch, targets)\n",
        "            # remember we need to zero gradients! Just in case!\n",
        "            optimizer.zero_grad()\n",
        "            # calculate backward pass\n",
        "            loss.backward(retain_graph=True)\n",
        "            # run the optimizer\n",
        "            optimizer.step()\n",
        "\n",
        "        # Validation: Evaluate the model on the validation data\n",
        "        loss_e, error_e = evaluation(val_loader, model_best=model, epoch=e)\n",
        "        nll_val.append(loss_e)  # save for plotting\n",
        "        error_val.append(error_e)  # save for plotting\n",
        "\n",
        "        # Early-stopping: update the best performing model and break training if no\n",
        "        # progress is observed.\n",
        "        if e == 0:\n",
        "            torch.save(model, name + \".model\")\n",
        "            best_nll = loss_e\n",
        "        else:\n",
        "            if loss_e < best_nll:\n",
        "                torch.save(model, name + \".model\")\n",
        "                best_nll = loss_e\n",
        "                patience = 0\n",
        "            else:\n",
        "                patience = patience + 1\n",
        "\n",
        "        if patience > max_patience:\n",
        "            break\n",
        "\n",
        "    # Return nll and classification error.\n",
        "    nll_val = np.asarray(nll_val)\n",
        "    error_val = np.asarray(error_val)\n",
        "\n",
        "    return nll_val, error_val"
      ]
    },
    {
      "cell_type": "code",
      "execution_count": null,
      "metadata": {
        "id": "2mxEGvDiDEfi"
      },
      "outputs": [],
      "source": [
        "result_dir = \"/content/gdrive/MyDrive/Colab Notebooks/assignment_4\"  # (current folder)\n",
        "    # =========\n",
        "if not (os.path.exists(result_dir)):\n",
        "  os.mkdir(result_dir)"
      ]
    },
    {
      "cell_type": "code",
      "execution_count": null,
      "metadata": {
        "colab": {
          "base_uri": "https://localhost:8080/",
          "height": 1000
        },
        "id": "MNnbs_q9DEfj",
        "outputId": "ebe8264b-e2a7-4dc9-c5e8-b121b80ea078"
      },
      "outputs": [
        {
          "output_type": "stream",
          "name": "stdout",
          "text": [
            "Epoch: 0, val nll=0.43903107148391207, val ce=0.1221997678118416\n",
            "Epoch: 10, val nll=0.11986250681474664, val ce=0.03276432901922002\n",
            "Epoch: 20, val nll=0.04439514744961954, val ce=0.011308423270413209\n",
            "Epoch: 30, val nll=0.013239126393228953, val ce=0.0027518596551575868\n",
            "Epoch: 40, val nll=0.007666773910779542, val ce=0.0015049232489143054\n",
            "Epoch: 50, val nll=0.003572069198026412, val ce=0.000429978071118373\n",
            "Epoch: 60, val nll=0.0027378946534105204, val ce=0.000429978071118373\n",
            "Epoch: 70, val nll=0.0015840965762506998, val ce=0.0002149890355591865\n",
            "Epoch: 80, val nll=0.00095857839461087, val ce=4.299780711183729e-05\n",
            "Epoch: 90, val nll=0.0010890205684635351, val ce=4.299780711183729e-05\n",
            "-> FINAL PERFORMANCE: nll=0.6185823440066348, ce=0.08262907191149355\n"
          ]
        },
        {
          "output_type": "display_data",
          "data": {
            "text/plain": [
              "<Figure size 640x480 with 1 Axes>"
            ],
            "image/png": "[encoded data removed]"
          },
          "metadata": {}
        },
        {
          "output_type": "display_data",
          "data": {
            "text/plain": [
              "<Figure size 640x480 with 1 Axes>"
            ],
            "image/png": "[encoded data removed]"
          },
          "metadata": {}
        }
      ],
      "source": [
        " # Init ClassifierNN\n",
        "model = SVHNClassifierNeuralNet().to('cuda')\n",
        "\n",
        "# Init OPTIMIZER (here we use ADAMAX)\n",
        "optimizer = torch.optim.Adamax(\n",
        "    [p for p in model.parameters() if p.requires_grad == True],\n",
        "    lr=lr,\n",
        "    weight_decay=wd,\n",
        ")\n",
        "\n",
        "name = \"classifier\"\n",
        "\n",
        "# Training procedure\n",
        "nll_val, error_val = training(\n",
        "    name=result_dir + name,\n",
        "    max_patience=max_patience,\n",
        "    num_epochs=num_epochs,\n",
        "    model=model,\n",
        "    optimizer=optimizer,\n",
        "    training_loader=train_loader,\n",
        "    val_loader=val_loader,\n",
        ")\n",
        "\n",
        "# The final evaluation (on the test set)\n",
        "test_loss, test_error = evaluation(name=result_dir + name, test_loader=test_loader)\n",
        "# write the results to a file\n",
        "f = open(result_dir + name + \"_test_loss.txt\", \"w\")\n",
        "f.write(\"NLL: \" + str(test_loss) + \"\\nCE: \" + str(test_error))\n",
        "f.close()\n",
        "# create curves\n",
        "plot_curve(\n",
        "    result_dir + name,\n",
        "    nll_val,\n",
        "    file_name=\"_nll_val_curve.pdf\",\n",
        "    ylabel=\"nll\",\n",
        "    test_eval=test_loss,\n",
        ")\n",
        "plot_curve(\n",
        "    result_dir + name,\n",
        "    error_val,\n",
        "    file_name=\"_ca_val_curve.pdf\",\n",
        "    ylabel=\"ce\",\n",
        "    color=\"r-\",\n",
        "    test_eval=test_error,\n",
        ")"
      ]
    },
    {
      "cell_type": "markdown",
      "source": [
        "(4)Provide a good explanation of the applied architecture and a description of all components.\n",
        "\n",
        "The 'SVHNClassifierNeuralNet' was the cnn used for the SVHN dataset (obviously). The CNN consists of 3 convolutional layers, which each concist of nn.BatchNorm2d batch normalization and nn.Sigmoid() sigmoid activation function.\n",
        "The CNN has 2 fully connected layers, Sigmoid activation function, max pooling with kernel 2, dropout regularization and negative log likelihood function\n",
        "\n",
        "\n"
      ],
      "metadata": {
        "id": "WoQ9vJKsPJ42"
      }
    },
    {
      "cell_type": "markdown",
      "source": [
        "(5)Analyze the results.\n",
        "The results were as follows:\n",
        "Epoch: 0, val nll=0.43903107148391207, val ce=0.1221997678118416\n",
        "Epoch: 10, val nll=0.11986250681474664, val ce=0.03276432901922002\n",
        "Epoch: 20, val nll=0.04439514744961954, val ce=0.011308423270413209\n",
        "Epoch: 30, val nll=0.013239126393228953, val ce=0.0027518596551575868\n",
        "Epoch: 40, val nll=0.007666773910779542, val ce=0.0015049232489143054\n",
        "Epoch: 50, val nll=0.003572069198026412, val ce=0.000429978071118373\n",
        "Epoch: 60, val nll=0.0027378946534105204, val ce=0.000429978071118373\n",
        "Epoch: 70, val nll=0.0015840965762506998, val ce=0.0002149890355591865\n",
        "Epoch: 80, val nll=0.00095857839461087, val ce=4.299780711183729e-05\n",
        "Epoch: 90, val nll=0.0010890205684635351, val ce=4.299780711183729e-05\n",
        "-> FINAL PERFORMANCE: nll=0.6185823440066348, ce=0.08262907191149355\n",
        "\n",
        "The final performance of nll is approximately 0.6 and the classification error is 0.08. It is clear to see from the low nll that the model is very good at predicting labels. The nll decreased with each epoch and this constant decrease shows that the model was able to learn effectively between epochs. To conclude the cnn has shown excellent performance.\n",
        "\n",
        "\n",
        "\n",
        "\n"
      ],
      "metadata": {
        "id": "azYKvl17NQ74"
      }
    }
  ],
  "metadata": {
    "colab": {
      "provenance": [],
      "gpuType": "T4"
    },
    "kernelspec": {
      "display_name": "Python 3",
      "name": "python3"
    },
    "language_info": {
      "codemirror_mode": {
        "name": "ipython",
        "version": 3
      },
      "file_extension": ".py",
      "mimetype": "text/x-python",
      "name": "python",
      "nbconvert_exporter": "python",
      "pygments_lexer": "ipython3",
      "version": "3.11.4"
    },
    "accelerator": "GPU"
  },
  "nbformat": 4,
  "nbformat_minor": 0
}